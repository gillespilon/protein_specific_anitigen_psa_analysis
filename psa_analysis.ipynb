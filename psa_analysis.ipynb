{
 "cells": [
  {
   "cell_type": "markdown",
   "metadata": {},
   "source": [
    "# Prostate-specific antigen (PSA) analysis"
   ]
  },
  {
   "cell_type": "markdown",
   "metadata": {},
   "source": [
    "# Document information"
   ]
  },
  {
   "cell_type": "markdown",
   "metadata": {},
   "source": [
    "<table align=\"left\">\n",
    "    <tr>\n",
    "        <th class=\"text-align:left\">Title</th>\n",
    "        <td class=\"text-align:left\">Protein-specific antigen (PSA) analysis</td>\n",
    "    </tr>\n",
    "    <tr>\n",
    "        <th class=\"text-align:left\">Last modified</th>\n",
    "        <td class=\"text-align:left\">2019-09-20</td>\n",
    "    </tr>\n",
    "    <tr>\n",
    "        <th class=\"text-align:left\">Author</th>\n",
    "        <td class=\"text-align:left\">Gilles Pilon <gillespilon13@gmail.com></td>\n",
    "    </tr>\n",
    "    <tr>\n",
    "        <th class=\"text-align:left\">Status</th>\n",
    "        <td class=\"text-align:left\">Active</td>\n",
    "    </tr>\n",
    "    <tr>\n",
    "        <th class=\"text-align:left\">Type</th>\n",
    "        <td class=\"text-align:left\">Jupyter notebook</td>\n",
    "    </tr>\n",
    "    <tr>\n",
    "        <th class=\"text-align:left\">Created</th>\n",
    "        <td class=\"text-align:left\">2017-08-02</td>\n",
    "    </tr>\n",
    "    <tr>\n",
    "        <th class=\"text-align:left\">File name</th>\n",
    "        <td class=\"text-align:left\">psa_analysis.ipynb</td>\n",
    "    </tr>\n",
    "    <tr>\n",
    "        <th class=\"text-align:left\">Other files required</th>\n",
    "        <td class=\"text-align:left\">psa_proudlove.csv<br />psa_perry.csv<br />psa_all.csv</td>\n",
    "    </tr>\n",
    "</table>"
   ]
  },
  {
   "cell_type": "markdown",
   "metadata": {},
   "source": [
    "## In brevi\n",
    "\n",
    "Prostate-specific antigen (PSA) is produced for the ejaculate, where it liquifies the semen in the seminal coagulum and allows sperm to swim freely (Balk et.al. 2003). PSA is present in small quantities in the serum of men with healthy prostates, but is often elevated in the presence of prostate cancer or other prostate disorders (Catalona et.al. 1994).\n",
    "\n",
    "I was diagnosed with prostate cancer on 2013-03-08. I had a radical prostatectomy on 2013-06-11 and 30 radiation treatments from 2013-09-13 to 2013-10-18.\n",
    "\n",
    "From an initial PSA test immediately after the last radiation treatment and every six months since, I have recorded the date, results, and consulting physician. These results are analysed in this Jupyter notebook.\n",
    "\n",
    "This Jupyter Notebook creates three scatter plots:\n",
    "\n",
    "1. PSA v. Date, using the full range of the data to set the y axis limits.\n",
    "2. PSA v. Date, using the *trigger point* of 3.0 to set the y axis limits. This upper limit is the point at which the doctors said I would need further treatment if my PSA results were to reach this value.\n",
    "3. PSA v. Date, using the full range of the data to set the y axis limits, and a linear regression line fitted to the data."
   ]
  },
  {
   "cell_type": "markdown",
   "metadata": {},
   "source": [
    "## Methodology\n",
    "\n",
    "Three plots are drawn with pandas.DataFrame.plot. Ordinary least squares (OLS) regression is estimated with statsmodels."
   ]
  },
  {
   "cell_type": "markdown",
   "metadata": {},
   "source": [
    "## Data\n",
    "\n",
    "Download the three data files:\n",
    "\n",
    "- [PSA results from Dr. Proudlove](https://drive.google.com/open?id=0BzrdQfHR2I5DdHNFMWtSQ3JSclE)\n",
    "- [PSA results from Dr. Perry](https://drive.google.com/open?id=0BzrdQfHR2I5DdF9pRUM1c1FZZmM)\n",
    "- [PSA results from Dr. Proudlove and Dr. Perry](https://drive.google.com/open?id=1P-m2GIVUq9o68cvTXa16-cpfb3xMp7fw)"
   ]
  },
  {
   "cell_type": "code",
   "execution_count": null,
   "metadata": {},
   "outputs": [],
   "source": [
    "from datetime import datetime\n",
    "start_time = datetime.now()"
   ]
  },
  {
   "cell_type": "code",
   "execution_count": null,
   "metadata": {},
   "outputs": [],
   "source": [
    "import pandas as pd\n",
    "import matplotlib.pyplot as plt\n",
    "import matplotlib.cm as cm\n",
    "import matplotlib.axes as axes\n",
    "import statsmodels.formula.api as smf\n",
    "import statsmodels.regression.linear_model\n",
    "from typing import Tuple\n",
    "\n",
    "\n",
    "# https://matplotlib.org/tutorials/colors/colormaps.html\n",
    "c = cm.Paired.colors # c[0] c[1] ... c[11]\n",
    "\n",
    "\n",
    "%matplotlib inline\n",
    "%config InlineBackend.figure_format = 'svg'"
   ]
  },
  {
   "cell_type": "code",
   "execution_count": null,
   "metadata": {},
   "outputs": [],
   "source": [
    "def despine(ax: axes.Axes) -> None:\n",
    "    '''\n",
    "    Remove the top and right spines of a graph\n",
    "    '''\n",
    "    for spine in 'right', 'top':\n",
    "        ax.spines[spine].set_color('none')"
   ]
  },
  {
   "cell_type": "code",
   "execution_count": null,
   "metadata": {},
   "outputs": [],
   "source": [
    "def psa_reg(df: pd.DataFrame) ->\\\n",
    "        Tuple[pd.DataFrame,\n",
    "              statsmodels.regression.linear_model.RegressionResultsWrapper,\n",
    "              str]:\n",
    "    df['Julian'] = df.index.to_julian_date()\n",
    "    results = smf.ols(formula='PSA ~ Julian', data=df).fit()\n",
    "    parameters = results.params\n",
    "    julian_predicted = (3.0 - parameters[0])/parameters[1]\n",
    "    gregorian_predicted = pd.to_datetime(julian_predicted, unit='D',\n",
    "                                         origin='julian')\\\n",
    "                            .strftime('%Y-%m-%d')\n",
    "    df['Predicted'] = results.predict(df['Julian'])\n",
    "    df = df.drop(columns='Julian')\n",
    "    return df, results, gregorian_predicted"
   ]
  },
  {
   "cell_type": "code",
   "execution_count": null,
   "metadata": {
    "scrolled": false
   },
   "outputs": [],
   "source": [
    "if __name__ == '__main__':\n",
    "    psa_proudlove = pd.read_csv('psa_proudlove.csv',\n",
    "                                parse_dates=True,\n",
    "                                index_col='Date')\n",
    "    psa_perry = pd.read_csv('psa_perry.csv',\n",
    "                            parse_dates=True,\n",
    "                            index_col='Date')\n",
    "    psa_all = pd.read_csv('psa_all.csv',\n",
    "                          parse_dates=True,\n",
    "                          index_col='Date')\n",
    "    title = 'Prosate-specific Antigen (PSA) Test'\n",
    "    max_date = max(psa_proudlove.index.max(),\n",
    "                   psa_perry.index.max()).date().isoformat()\n",
    "    subtitle = f'Gilles Pilon {max_date}'\n",
    "    yaxislabel = 'PSA (ng/mL)'\n",
    "    xaxislabel = 'Date'\n",
    "    psa_all, results, gregorian_predicted = psa_reg(psa_all)\n",
    "    todo = [\n",
    "        (psa_proudlove, psa_perry, 'PSA', 'PSA', None, '.', '.',\n",
    "            'gilles_psa'),\n",
    "        (psa_proudlove, psa_perry, 'PSA', 'PSA', (-0.05, 3), '.', '.',\n",
    "            'gilles_psa_max'),\n",
    "        (psa_all, psa_all, 'PSA', 'Predicted', None, '.', '-',\n",
    "            'gilles_psa_regression')\n",
    "           ]\n",
    "    for df1, df2, y1, y2, ylim, g1, g2, filename in todo:\n",
    "        fig, ax = plt.subplots(figsize=(12, 12))\n",
    "        df1.plot(y=y1,\n",
    "                 color=c[0],\n",
    "                 style=g1,\n",
    "                 label='Dr. Proudlove',\n",
    "                 ax=ax)\n",
    "        df2.plot(y=y2,\n",
    "                 color=c[1],\n",
    "                 style=g2,\n",
    "                 label='Dr. Perry',\n",
    "                 ax=ax)\n",
    "        despine(ax)\n",
    "        ax.set_title(f'{title}\\n{subtitle}')\n",
    "        ax.set_ylabel(yaxislabel)\n",
    "        ax.set_xlabel(xaxislabel)\n",
    "        ax.autoscale(tight=False)\n",
    "        if ylim is not None:\n",
    "            ax.set_ylim(*ylim)\n",
    "        if df1 is not psa_all:\n",
    "            ax.legend(loc='upper left', frameon=False)\n",
    "        else:\n",
    "            ax.get_legend().remove()\n",
    "        ax.figure.savefig(f'{filename}.svg', format='svg')\n",
    "        ax.figure.savefig(f'{filename}.png', format='png')\n",
    "        ax.figure.savefig(f'{filename}.pdf', format='pdf')\n",
    "    print(f'My PSA will reach 3.0 on {gregorian_predicted}.'\n",
    "          f'\\n\\n{results.summary()}')"
   ]
  },
  {
   "cell_type": "code",
   "execution_count": null,
   "metadata": {},
   "outputs": [],
   "source": [
    "end_time = datetime.now()\n",
    "(end_time - start_time).total_seconds()"
   ]
  },
  {
   "cell_type": "markdown",
   "metadata": {},
   "source": [
    "## References\n",
    "\n",
    "Balk, S.P. Y.J. Ko, and G.J. Bubley. \"Biology of prosate-specific antigen.\" *Journal of Clinical Oncology* 21 (January 2003), no. 2: 383-91. [PMID 12525533 (https://www.ncbi.nlm.nih.gov/pubmed/12525533)](https://www.ncbi.nlm.nih.gov/pubmed/12525533). [doi:10.1200/JCO.2003.02.083 (https://doi.org/10.1200 2FJCO.2003.02.083)](https://doi.org/10.1200/JCO.2003.02.083).\n",
    "\n",
    "Catalona, W.J., J.P. Richie, F.R. Ahmann, M.A. Hudson, P.T. Scardino, R.C. Flanigan, J.B. deKernion, T.L. Ratliff, L.R. Kavoussi, and B.L. Dalkin. \"Comparison of digital rectal examination and serum prostate specific antigen in the early detection of prostate cancer: results of a multicenter clinical trial of 6,630 mean.\" *The Journal of Urology* 151 (May 1994), no. 5: 1283-90. [PMID 7512659 (https://www.ncbi.nlm.nih.gov/pubmed/7512659)](https://www.ncbi.nlm.nih.gov/pubmed/7512659).\n"
   ]
  }
 ],
 "metadata": {
  "kernelspec": {
   "display_name": "Python 3",
   "language": "python",
   "name": "python3"
  },
  "language_info": {
   "codemirror_mode": {
    "name": "ipython",
    "version": 3
   },
   "file_extension": ".py",
   "mimetype": "text/x-python",
   "name": "python",
   "nbconvert_exporter": "python",
   "pygments_lexer": "ipython3",
   "version": "3.7.4"
  },
  "varInspector": {
   "cols": {
    "lenName": 16,
    "lenType": 16,
    "lenVar": 40
   },
   "kernels_config": {
    "python": {
     "delete_cmd_postfix": "",
     "delete_cmd_prefix": "del ",
     "library": "var_list.py",
     "varRefreshCmd": "print(var_dic_list())"
    },
    "r": {
     "delete_cmd_postfix": ") ",
     "delete_cmd_prefix": "rm(",
     "library": "var_list.r",
     "varRefreshCmd": "cat(var_dic_list()) "
    }
   },
   "types_to_exclude": [
    "module",
    "function",
    "builtin_function_or_method",
    "instance",
    "_Feature"
   ],
   "window_display": false
  }
 },
 "nbformat": 4,
 "nbformat_minor": 2
}
