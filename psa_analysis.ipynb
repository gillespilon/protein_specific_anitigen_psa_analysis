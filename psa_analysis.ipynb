{
 "cells": [
  {
   "cell_type": "markdown",
   "metadata": {},
   "source": [
    "# Prostate-specific antigen (PSA) analysis"
   ]
  },
  {
   "cell_type": "markdown",
   "metadata": {},
   "source": [
    "# Document information"
   ]
  },
  {
   "cell_type": "markdown",
   "metadata": {},
   "source": [
    "<table align=\"left\">\n",
    "    <tr>\n",
    "        <th class=\"text-align:left\">Title</th>\n",
    "        <td class=\"text-align:left\">Protein-specific antigen (PSA) analysis</td>\n",
    "    </tr>\n",
    "    <tr>\n",
    "        <th class=\"text-align:left\">Last modified</th>\n",
    "        <td class=\"text-align:left\">2020-10-07</td>\n",
    "    </tr>\n",
    "    <tr>\n",
    "        <th class=\"text-align:left\">Author</th>\n",
    "        <td class=\"text-align:left\">Gilles Pilon <gillespilon13@gmail.com></td>\n",
    "    </tr>\n",
    "    <tr>\n",
    "        <th class=\"text-align:left\">Status</th>\n",
    "        <td class=\"text-align:left\">Active</td>\n",
    "    </tr>\n",
    "    <tr>\n",
    "        <th class=\"text-align:left\">Type</th>\n",
    "        <td class=\"text-align:left\">Jupyter notebook</td>\n",
    "    </tr>\n",
    "    <tr>\n",
    "        <th class=\"text-align:left\">Created</th>\n",
    "        <td class=\"text-align:left\">2017-08-02</td>\n",
    "    </tr>\n",
    "    <tr>\n",
    "        <th class=\"text-align:left\">File name</th>\n",
    "        <td class=\"text-align:left\">psa_analysis.ipynb</td>\n",
    "    </tr>\n",
    "    <tr>\n",
    "        <th class=\"text-align:left\">Other files required</th>\n",
    "        <td class=\"text-align:left\">psa_proudlove.csv<br />psa_perry.csv<br />psa_all.csv</td>\n",
    "    </tr>\n",
    "</table>"
   ]
  },
  {
   "cell_type": "markdown",
   "metadata": {},
   "source": [
    "## In brevi\n",
    "\n",
    "Prostate-specific antigen (PSA) is produced for the ejaculate, where it liquifies the semen in the seminal coagulum and allows sperm to swim freely (Balk et.al. 2003). PSA is present in small quantities in the serum of men with healthy prostates, but is often elevated in the presence of prostate cancer or other prostate disorders (Catalona et.al. 1994).\n",
    "\n",
    "I was diagnosed with prostate cancer on 2013-03-08. I had a radical prostatectomy on 2013-06-11 and 30 radiation treatments from 2013-09-13 to 2013-10-18.\n",
    "\n",
    "From an initial PSA test immediately after the last radiation treatment and every six months since, I have recorded the date, results, and consulting physician. These results are analysed in this Jupyter notebook.\n",
    "\n",
    "This Jupyter Notebook creates three scatter plots:\n",
    "\n",
    "1. PSA v. Date, using the full range of the data to set the y axis limits.\n",
    "2. PSA v. Date, using the *trigger point* of 3.0 to set the y axis limits. This upper limit is the point at which the doctors said I would need further treatment if my PSA results were to reach this value.\n",
    "3. PSA v. Date, using the full range of the data to set the y axis limits, and a linear regression line fitted to the data."
   ]
  },
  {
   "cell_type": "markdown",
   "metadata": {},
   "source": [
    "## Methodology\n",
    "\n",
    "Three plots are drawn with pandas.DataFrame.plot. Ordinary least squares (OLS) regression is estimated with statsmodels."
   ]
  },
  {
   "cell_type": "markdown",
   "metadata": {},
   "source": [
    "## Data\n",
    "\n",
    "Download the three data files:\n",
    "\n",
    "- [PSA results from Dr. Proudlove](https://drive.google.com/open?id=0BzrdQfHR2I5DdHNFMWtSQ3JSclE)\n",
    "- [PSA results from Dr. Perry](https://drive.google.com/open?id=0BzrdQfHR2I5DdF9pRUM1c1FZZmM)\n",
    "- [PSA results from Dr. Proudlove and Dr. Perry](https://drive.google.com/open?id=1P-m2GIVUq9o68cvTXa16-cpfb3xMp7fw)"
   ]
  },
  {
   "cell_type": "code",
   "execution_count": 1,
   "metadata": {},
   "outputs": [],
   "source": [
    "from datetime import datetime\n",
    "start_time = datetime.now()"
   ]
  },
  {
   "cell_type": "code",
   "execution_count": 2,
   "metadata": {},
   "outputs": [],
   "source": [
    "from typing import Tuple"
   ]
  },
  {
   "cell_type": "code",
   "execution_count": 3,
   "metadata": {},
   "outputs": [],
   "source": [
    "import matplotlib.pyplot as plt\n",
    "import matplotlib.axes as axes\n",
    "import statsmodels.api as sm\n",
    "import pandas as pd\n",
    "import numpy as np"
   ]
  },
  {
   "cell_type": "code",
   "execution_count": 4,
   "metadata": {},
   "outputs": [],
   "source": [
    "colour1 = '#0077bb'\n",
    "colour2 = '#33bbee'\n",
    "figure_width_height = (8, 6)\n",
    "x_axis_label, y_axis_label, axis_title =\\\n",
    "    ('Date', 'PSA (ng/mL)', 'Prosate-specific Antigen (PSA) Test')\n",
    "file_name_proudlove, file_name_perry, file_name_all =\\\n",
    "    ('psa_proudlove.csv', 'psa_perry.csv', 'psa_all.csv')"
   ]
  },
  {
   "cell_type": "code",
   "execution_count": 5,
   "metadata": {},
   "outputs": [],
   "source": [
    "def main():\n",
    "    psa_proudlove, psa_perry, psa_all = read_data(\n",
    "        file_name_1=file_name_proudlove,\n",
    "        file_name_2=file_name_perry,\n",
    "        file_name_3=file_name_all\n",
    "    )\n",
    "    axis_subtitle = f'Gilles Pilon {max_date(psa_proudlove, psa_perry)}'\n",
    "    psa_all = psa_reg(psa_all)\n",
    "    todo = [\n",
    "        (psa_proudlove, psa_perry, 'Date', 'Date', 'PSA', 'PSA',\n",
    "         None, '.', 'None', 'gilles_psa'),\n",
    "        (psa_proudlove, psa_perry, 'Date', 'Date', 'PSA', 'PSA',\n",
    "         (-0.05, 3), '.', 'None', 'gilles_psa_max'),\n",
    "        (psa_all, psa_all, 'Date', 'Date', 'PSA', 'Predicted',\n",
    "         None, 'None', '-', 'gilles_psa_regression')\n",
    "        ]\n",
    "    for df1, df2, x1, x2, y1, y2, ylim, g1, g2, filename in todo:\n",
    "        plot_line(\n",
    "            df1, df2, x1, x2, y1, y2,\n",
    "            ylim, g1, g2, axis_subtitle, filename, psa_all\n",
    "        )"
   ]
  },
  {
   "cell_type": "code",
   "execution_count": 6,
   "metadata": {},
   "outputs": [],
   "source": [
    "def plot_line(\n",
    "    df1: pd.DataFrame,\n",
    "    df2: pd.DataFrame,\n",
    "    x1: str,\n",
    "    x2: str,\n",
    "    y1: str,\n",
    "    y2: str,\n",
    "    ylim: None,\n",
    "    g1: str,\n",
    "    g2: str,\n",
    "    axis_subtitle: str,\n",
    "    filename: str,\n",
    "    psa_all: pd.DataFrame\n",
    ") -> None:\n",
    "    fig = plt.figure(figsize=figure_width_height)\n",
    "    ax = fig.add_subplot(111)\n",
    "    ax.plot(df1[x1], df1[y1],\n",
    "            marker=g1, linestyle=g2, color=colour1,\n",
    "            label='Dr. Proudlove')\n",
    "    ax.plot(df2[x2], df2[y2],\n",
    "            marker=g1, linestyle=g2, color=colour2,\n",
    "            label='Dr. Perry')\n",
    "    despine(ax)\n",
    "    ax.set_title(f'{axis_title}\\n{axis_subtitle}')\n",
    "    ax.set_ylabel(y_axis_label)\n",
    "    ax.set_xlabel(x_axis_label)\n",
    "    ax.autoscale(tight=False)\n",
    "    if ylim is not None:\n",
    "        ax.set_ylim(*ylim)\n",
    "    if df1 is not psa_all:\n",
    "        ax.legend(loc='upper left', frameon=False)\n",
    "    ax.figure.savefig(f'{filename}.svg', format='svg')"
   ]
  },
  {
   "cell_type": "code",
   "execution_count": 7,
   "metadata": {},
   "outputs": [],
   "source": [
    "def despine(ax: axes.Axes) -> None:\n",
    "    \"\"\"\n",
    "    Remove the top and right spines of a graph.\n",
    "\n",
    "    Parameters\n",
    "    ----------\n",
    "    ax : axes.Axes\n",
    "\n",
    "    Example\n",
    "    -------\n",
    "    >>> despine(ax)\n",
    "    \"\"\"\n",
    "    for spine in 'right', 'top':\n",
    "        ax.spines[spine].set_visible(False)"
   ]
  },
  {
   "cell_type": "code",
   "execution_count": 8,
   "metadata": {},
   "outputs": [],
   "source": [
    "def psa_reg(df: pd.DataFrame) -> pd.DataFrame:\n",
    "    \"\"\"\n",
    "    Perform linear regression.\n",
    "    \"\"\"\n",
    "    df['DateDelta'] = (df['Date'] - df['Date'].min())/np.timedelta64(1, 'D')\n",
    "    model = sm.OLS(\n",
    "        df['PSA'],\n",
    "        sm.add_constant(\n",
    "            df['DateDelta']),\n",
    "        missing='drop'\n",
    "        ).fit()\n",
    "    df['Predicted'] = model.fittedvalues\n",
    "    return df"
   ]
  },
  {
   "cell_type": "code",
   "execution_count": 9,
   "metadata": {},
   "outputs": [],
   "source": [
    "def max_date(\n",
    "    df1: pd.DataFrame,\n",
    "    df2: pd.DataFrame\n",
    ") -> str:\n",
    "    \"\"\"\n",
    "    Determine the maxium date in the dataframes.\n",
    "    \"\"\"\n",
    "    md = max(\n",
    "        df1['Date'].max(),\n",
    "        df2['Date'].max()\n",
    "    ).date().isoformat()\n",
    "    return md"
   ]
  },
  {
   "cell_type": "code",
   "execution_count": 10,
   "metadata": {},
   "outputs": [],
   "source": [
    "def read_data(\n",
    "    file_name_1: str,\n",
    "    file_name_2: str,\n",
    "    file_name_3: str\n",
    ") -> Tuple[\n",
    "    pd.DataFrame,\n",
    "    pd.DataFrame,\n",
    "    pd.DataFrame\n",
    "]:\n",
    "    \"\"\"\n",
    "    Read the three raw files into dataframes.\n",
    "    \"\"\"\n",
    "    df1 = pd.read_csv(\n",
    "        file_name_1,\n",
    "        parse_dates=['Date']\n",
    "    )\n",
    "    df2 = pd.read_csv(\n",
    "        file_name_2,\n",
    "        parse_dates=['Date']\n",
    "    )\n",
    "    df3 = pd.read_csv(\n",
    "        file_name_3,\n",
    "        parse_dates=['Date']\n",
    "    )\n",
    "    return (df1, df2, df3)"
   ]
  },
  {
   "cell_type": "code",
   "execution_count": 11,
   "metadata": {},
   "outputs": [
    {
     "data": {
      "image/png": "[encoded data removed]",
      "text/plain": [
       "<Figure size 576x432 with 1 Axes>"
      ]
     },
     "metadata": {
      "needs_background": "light"
     },
     "output_type": "display_data"
    },
    {
     "data": {
      "image/png": "[encoded data removed]",
      "text/plain": [
       "<Figure size 576x432 with 1 Axes>"
      ]
     },
     "metadata": {
      "needs_background": "light"
     },
     "output_type": "display_data"
    },
    {
     "data": {
      "image/png": "[encoded data removed]",
      "text/plain": [
       "<Figure size 576x432 with 1 Axes>"
      ]
     },
     "metadata": {
      "needs_background": "light"
     },
     "output_type": "display_data"
    }
   ],
   "source": [
    "if __name__ == '__main__':\n",
    "    main()"
   ]
  },
  {
   "cell_type": "code",
   "execution_count": 12,
   "metadata": {},
   "outputs": [
    {
     "data": {
      "text/plain": [
       "1.224888"
      ]
     },
     "execution_count": 12,
     "metadata": {},
     "output_type": "execute_result"
    }
   ],
   "source": [
    "end_time = datetime.now()\n",
    "(end_time - start_time).total_seconds()"
   ]
  },
  {
   "cell_type": "markdown",
   "metadata": {},
   "source": [
    "## References\n",
    "\n",
    "Balk, S.P. Y.J. Ko, and G.J. Bubley. \"Biology of prosate-specific antigen.\" *Journal of Clinical Oncology* 21 (January 2003), no. 2: 383-91. [PMID 12525533 (https://www.ncbi.nlm.nih.gov/pubmed/12525533)](https://www.ncbi.nlm.nih.gov/pubmed/12525533). [doi:10.1200/JCO.2003.02.083 (https://doi.org/10.1200 2FJCO.2003.02.083)](https://doi.org/10.1200/JCO.2003.02.083).\n",
    "\n",
    "Catalona, W.J., J.P. Richie, F.R. Ahmann, M.A. Hudson, P.T. Scardino, R.C. Flanigan, J.B. deKernion, T.L. Ratliff, L.R. Kavoussi, and B.L. Dalkin. \"Comparison of digital rectal examination and serum prostate specific antigen in the early detection of prostate cancer: results of a multicenter clinical trial of 6,630 mean.\" *The Journal of Urology* 151 (May 1994), no. 5: 1283-90. [PMID 7512659 (https://www.ncbi.nlm.nih.gov/pubmed/7512659)](https://www.ncbi.nlm.nih.gov/pubmed/7512659).\n"
   ]
  }
 ],
 "metadata": {
  "kernelspec": {
   "display_name": "Python 3",
   "language": "python",
   "name": "python3"
  },
  "language_info": {
   "codemirror_mode": {
    "name": "ipython",
    "version": 3
   },
   "file_extension": ".py",
   "mimetype": "text/x-python",
   "name": "python",
   "nbconvert_exporter": "python",
   "pygments_lexer": "ipython3",
   "version": "3.8.6"
  },
  "varInspector": {
   "cols": {
    "lenName": 16,
    "lenType": 16,
    "lenVar": 40
   },
   "kernels_config": {
    "python": {
     "delete_cmd_postfix": "",
     "delete_cmd_prefix": "del ",
     "library": "var_list.py",
     "varRefreshCmd": "print(var_dic_list())"
    },
    "r": {
     "delete_cmd_postfix": ") ",
     "delete_cmd_prefix": "rm(",
     "library": "var_list.r",
     "varRefreshCmd": "cat(var_dic_list()) "
    }
   },
   "types_to_exclude": [
    "module",
    "function",
    "builtin_function_or_method",
    "instance",
    "_Feature"
   ],
   "window_display": false
  }
 },
 "nbformat": 4,
 "nbformat_minor": 2
}
